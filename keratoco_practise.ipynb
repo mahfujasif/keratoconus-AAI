{
  "nbformat": 4,
  "nbformat_minor": 0,
  "metadata": {
    "colab": {
      "provenance": []
    },
    "kernelspec": {
      "name": "python3",
      "display_name": "Python 3"
    },
    "language_info": {
      "name": "python"
    }
  },
  "cells": [
    {
      "cell_type": "code",
      "execution_count": null,
      "metadata": {
        "id": "nVi7g7z98R66"
      },
      "outputs": [],
      "source": [
        "import os\n",
        "import os\n",
        "import re\n",
        "import cv2\n",
        "import json\n",
        "import time\n",
        "import shutil\n",
        "import random\n",
        "import numpy as np\n",
        "import pandas as pd\n",
        "from sklearn.model_selection import train_test_split\n",
        "from sklearn.svm import SVC\n",
        "from sklearn.metrics import accuracy_score\n",
        "from tensorflow.keras.applications import ResNet50\n",
        "from tensorflow.keras.preprocessing import image\n",
        "from tensorflow.keras.applications.resnet50 import preprocess_input\n",
        "from sklearn.ensemble import VotingClassifier\n",
        "\n",
        "\n",
        "import torch\n",
        "import torch.nn as nn\n",
        "from torch.utils.data import DataLoader, Dataset\n",
        "from torchvision import transforms\n",
        "from torch.optim import Adam\n",
        "from torchvision import models\n",
        "from torch.autograd import Variable\n",
        "from google.colab import drive\n",
        "\n",
        "%matplotlib inline"
      ]
    },
    {
      "cell_type": "code",
      "source": [
        "device = torch.device(\"cuda\" if torch.cuda.is_available() else \"cpu\")\n",
        "print(\"device set done\")"
      ],
      "metadata": {
        "colab": {
          "base_uri": "https://localhost:8080/"
        },
        "id": "OKO13Hpv-o6_",
        "outputId": "e95ed197-3367-4ad7-fd98-f9e6f53c38cb"
      },
      "execution_count": null,
      "outputs": [
        {
          "output_type": "stream",
          "name": "stdout",
          "text": [
            "device set done\n"
          ]
        }
      ]
    },
    {
      "cell_type": "code",
      "source": [
        "# drive.mount('/content/drive')"
      ],
      "metadata": {
        "colab": {
          "base_uri": "https://localhost:8080/"
        },
        "id": "-uFTZ3zz_us_",
        "outputId": "0dfba9dc-5b59-48af-b31c-16830c8cef10"
      },
      "execution_count": null,
      "outputs": [
        {
          "output_type": "stream",
          "name": "stdout",
          "text": [
            "Mounted at /content/drive\n"
          ]
        }
      ]
    },
    {
      "cell_type": "code",
      "source": [
        "version = \"v1\"\n",
        "for col_name in ['CT_A', 'EC_A', 'EC_P', 'Elv_A', 'Elv_P', 'Sag_A', 'Sag_P']:\n",
        "    #to hold experiment data\n",
        "    os.makedirs(f\"/content/drive/MyDrive/Colab Notebooks/kera/run_{version}/acc_figure/{col_name}\", exist_ok = True)\n",
        "    os.makedirs(f\"/content/drive/MyDrive/Colab Notebooks/kera/run_{version}/loss_figure/{col_name}\", exist_ok = True)\n",
        "    os.makedirs(f\"/content/drive/MyDrive/Colab Notebooks/kera/run_{version}/saved_model/{col_name}\", exist_ok = True)\n",
        "\n",
        "for type_ in [\"kcn\", \"nor\", \"susp\"]:\n",
        "    os.makedirs(f\"/content/drive/MyDrive/Colab Notebooks/kera/hist_{type_}\", exist_ok = True)\n",
        "print(\"done\")"
      ],
      "metadata": {
        "colab": {
          "base_uri": "https://localhost:8080/"
        },
        "id": "hz-4yTj4_3ZG",
        "outputId": "c4d2080e-2ea8-48ec-fd58-615780702a41"
      },
      "execution_count": null,
      "outputs": [
        {
          "output_type": "stream",
          "name": "stdout",
          "text": [
            "done\n"
          ]
        }
      ]
    },
    {
      "cell_type": "code",
      "source": [
        "def set_seed(seed = 42):\n",
        "    np.random.seed(seed)\n",
        "    random.seed(seed)\n",
        "    torch.manual_seed(seed)\n",
        "    torch.cuda.manual_seed(seed)\n",
        "    # When running on the CuDNN backend, two further options must be set\n",
        "    torch.backends.cudnn.deterministic = True\n",
        "    torch.backends.cudnn.benchmark = False\n",
        "    # Set a fixed value for the hash seed\n",
        "    os.environ[\"PYTHONHASHSEED\"] = str(seed)\n",
        "    print(f\"Random seed set as {seed}\")\n",
        "set_seed()"
      ],
      "metadata": {
        "colab": {
          "base_uri": "https://localhost:8080/"
        },
        "id": "kp1p8oY0CCQv",
        "outputId": "d0fbe8bf-fbd4-4899-a754-62c596dda618"
      },
      "execution_count": null,
      "outputs": [
        {
          "output_type": "stream",
          "name": "stdout",
          "text": [
            "Random seed set as 42\n"
          ]
        }
      ]
    },
    {
      "cell_type": "code",
      "source": [
        "cls_dict = {\n",
        "    \"Keratoconus\": 0,\n",
        "    \"Normal\":1,\n",
        "    \"Suspect\":2\n",
        "}\n",
        "class_list = list(cls_dict.keys())"
      ],
      "metadata": {
        "id": "u5CQEahjCjHu"
      },
      "execution_count": null,
      "outputs": []
    },
    {
      "cell_type": "code",
      "source": [
        "def metadata(parnt_dir):\n",
        "    data_dict = {\n",
        "        \"CT_A\" : [],\n",
        "        \"EC_A\" : [],\n",
        "        \"EC_P\" : [],\n",
        "        \"Elv_A\" : [],\n",
        "        \"Elv_P\" : [],\n",
        "        \"Sag_A\" : [],\n",
        "        \"Sag_P\" : [],\n",
        "        \"label\": []\n",
        "    }\n",
        "\n",
        "    columns = list(data_dict.keys())\n",
        "    for cls_ in class_list:\n",
        "        cases_in_pth = os.listdir(os.path.join(parnt_dir, cls_))\n",
        "\n",
        "        for case in cases_in_pth:\n",
        "            case_list = os.listdir(os.path.join(parnt_dir, cls_, case))\n",
        "            for col in columns[:-1]:\n",
        "                r = re.compile(f\".*{col}\")\n",
        "                filename = list(filter(r.match, case_list))[0]\n",
        "                data_dict[col].append(os.path.join(parnt_dir, cls_, case, filename))\n",
        "            data_dict[\"label\"].append(cls_dict[cls_])\n",
        "\n",
        "    df = pd.DataFrame.from_dict(data_dict)\n",
        "    return df"
      ],
      "metadata": {
        "id": "3fiGBJCWCwXd"
      },
      "execution_count": null,
      "outputs": []
    },
    {
      "cell_type": "code",
      "source": [
        "df_train = metadata(\"/content/drive/MyDrive/Colab Notebooks/kera/Train_Validation sets\")\n",
        "df_test = metadata(\"/content/drive/MyDrive/Colab Notebooks/kera/Independent Test Set\")"
      ],
      "metadata": {
        "id": "s5QZvvojC0CD"
      },
      "execution_count": null,
      "outputs": []
    },
    {
      "cell_type": "code",
      "source": [
        "df_train.shape[0]"
      ],
      "metadata": {
        "colab": {
          "base_uri": "https://localhost:8080/"
        },
        "id": "hIDKWmiNHhGL",
        "outputId": "01e88645-4e25-44a4-dc21-2948990eabb2"
      },
      "execution_count": null,
      "outputs": [
        {
          "output_type": "execute_result",
          "data": {
            "text/plain": [
              "423"
            ]
          },
          "metadata": {},
          "execution_count": 9
        }
      ]
    },
    {
      "cell_type": "code",
      "source": [
        "df_test.shape[0]"
      ],
      "metadata": {
        "colab": {
          "base_uri": "https://localhost:8080/"
        },
        "id": "3H_xV-yLHsM_",
        "outputId": "f67101ae-a0c6-4cd9-9f35-f683806748b5"
      },
      "execution_count": null,
      "outputs": [
        {
          "output_type": "execute_result",
          "data": {
            "text/plain": [
              "150"
            ]
          },
          "metadata": {},
          "execution_count": 10
        }
      ]
    },
    {
      "cell_type": "code",
      "source": [
        "df = pd.concat([df_train, df_test], ignore_index=True)\n",
        "print(df_train.shape[0])\n",
        "print(df_test.shape[0])\n",
        "print(df.shape[0])\n",
        "df.head()"
      ],
      "metadata": {
        "id": "Q1KfDfNrHv71"
      },
      "execution_count": null,
      "outputs": []
    },
    {
      "cell_type": "code",
      "source": [
        "def load_and_preprocess_img(img_path):\n",
        "    img = image.load_img(img_path, target_size=(224, 224))\n",
        "    img_array = image.img_to_array(img)\n",
        "    img_array = preprocess_input(img_array)\n",
        "    return img_array"
      ],
      "metadata": {
        "id": "jewkIMoiH9eF"
      },
      "execution_count": null,
      "outputs": []
    },
    {
      "cell_type": "code",
      "source": [
        "X = np.array([np.array([load_and_preprocess_img(img_path) for img_path in row]) for row in df_train[['CT_A', 'EC_A', 'EC_P', 'Elv_A', 'Elv_P', 'Sag_A', 'Sag_P']].values])\n",
        "X_flat = X.reshape((X.shape[0] * X.shape[1],) + X.shape[2:])\n"
      ],
      "metadata": {
        "id": "ml09kVDWI1-C"
      },
      "execution_count": null,
      "outputs": []
    },
    {
      "cell_type": "code",
      "source": [
        "print(len(X_flat))"
      ],
      "metadata": {
        "colab": {
          "base_uri": "https://localhost:8080/"
        },
        "id": "N3er0_ENWVLS",
        "outputId": "a3ecc5a2-36af-4736-9f35-f2bbff8ccd48"
      },
      "execution_count": null,
      "outputs": [
        {
          "output_type": "stream",
          "name": "stdout",
          "text": [
            "2961\n"
          ]
        }
      ]
    },
    {
      "cell_type": "code",
      "source": [
        "print(X_flat)"
      ],
      "metadata": {
        "id": "0-5d3IVnveol"
      },
      "execution_count": null,
      "outputs": []
    },
    {
      "cell_type": "code",
      "source": [
        "ny = df_train['label'].values\n",
        "y = [xv for xv in ny for _ in range(7)]\n",
        "print(len(y))"
      ],
      "metadata": {
        "colab": {
          "base_uri": "https://localhost:8080/"
        },
        "id": "hr19z3yZWDhC",
        "outputId": "b2f9a958-4af2-44a4-d45b-88908192bec1"
      },
      "execution_count": null,
      "outputs": [
        {
          "output_type": "stream",
          "name": "stdout",
          "text": [
            "2961\n"
          ]
        }
      ]
    },
    {
      "cell_type": "code",
      "source": [
        "X_train, X_test, y_train, y_test = train_test_split(X_flat, y, test_size=0.2, random_state=42)\n"
      ],
      "metadata": {
        "id": "dsXZmEA9WbsW"
      },
      "execution_count": null,
      "outputs": []
    },
    {
      "cell_type": "code",
      "source": [
        "print(y_train)"
      ],
      "metadata": {
        "colab": {
          "base_uri": "https://localhost:8080/"
        },
        "id": "BroDDwZKvjKO",
        "outputId": "66593cdc-bd4a-4214-a64b-388b707ca6f5"
      },
      "execution_count": null,
      "outputs": [
        {
          "output_type": "stream",
          "name": "stdout",
          "text": [
            "[0, 2, 0, 1, 1, 1, 1, 0, 1, 1, 2, 0, 2, 2, 0, 0, 2, 2, 0, 2, 2, 1, 1, 2, 2, 0, 0, 2, 0, 0, 0, 2, 0, 1, 1, 2, 2, 0, 2, 2, 2, 2, 0, 2, 1, 2, 1, 2, 0, 1, 2, 2, 1, 1, 1, 1, 0, 1, 0, 1, 0, 1, 0, 1, 0, 1, 1, 1, 0, 1, 0, 2, 2, 2, 2, 1, 0, 2, 0, 1, 1, 0, 1, 2, 2, 0, 0, 1, 1, 1, 0, 0, 0, 1, 2, 0, 0, 1, 2, 2, 1, 2, 0, 2, 0, 2, 1, 0, 0, 0, 1, 1, 2, 1, 1, 1, 2, 1, 0, 2, 1, 2, 1, 0, 0, 0, 1, 2, 1, 0, 1, 1, 2, 0, 1, 1, 2, 2, 2, 1, 2, 1, 0, 0, 1, 0, 2, 0, 1, 2, 0, 1, 2, 0, 1, 2, 0, 0, 0, 1, 1, 2, 1, 1, 0, 0, 2, 0, 2, 0, 2, 0, 2, 1, 1, 2, 2, 0, 0, 0, 1, 1, 2, 2, 1, 2, 0, 0, 0, 0, 2, 2, 2, 2, 1, 0, 1, 1, 0, 0, 2, 0, 0, 1, 1, 1, 0, 1, 2, 2, 2, 0, 0, 0, 2, 0, 0, 1, 2, 2, 1, 1, 1, 1, 2, 0, 1, 1, 2, 0, 1, 1, 2, 2, 0, 1, 2, 1, 0, 0, 0, 0, 2, 0, 1, 0, 0, 0, 0, 1, 1, 2, 1, 0, 1, 1, 1, 1, 0, 1, 1, 0, 2, 1, 2, 0, 1, 1, 1, 2, 1, 1, 2, 1, 2, 0, 1, 0, 1, 0, 2, 1, 1, 1, 0, 2, 1, 0, 1, 2, 2, 2, 1, 0, 1, 2, 1, 2, 0, 1, 1, 1, 0, 0, 2, 1, 2, 2, 1, 0, 0, 2, 2, 0, 1, 0, 1, 0, 0, 2, 2, 0, 1, 2, 1, 0, 0, 1, 2, 1, 1, 0, 0, 0, 0, 2, 0, 2, 0, 1, 1, 2, 1, 0, 2, 0, 2, 1, 1, 0, 1, 2, 1, 0, 1, 0, 0, 0, 0, 1, 0, 1, 1, 0, 1, 1, 1, 0, 0, 0, 1, 1, 0, 1, 1, 2, 2, 0, 2, 1, 2, 0, 0, 2, 2, 1, 2, 0, 1, 1, 2, 1, 0, 0, 0, 2, 1, 1, 2, 1, 1, 1, 1, 1, 0, 1, 1, 1, 0, 0, 2, 2, 2, 0, 1, 0, 0, 1, 0, 0, 1, 0, 0, 2, 1, 1, 1, 0, 1, 1, 1, 0, 0, 2, 1, 1, 1, 1, 2, 0, 2, 0, 0, 0, 1, 1, 0, 2, 0, 0, 1, 1, 0, 0, 2, 2, 1, 1, 0, 0, 2, 0, 2, 1, 2, 2, 1, 0, 2, 1, 0, 1, 2, 1, 1, 1, 1, 1, 0, 1, 1, 1, 0, 1, 2, 2, 2, 2, 2, 2, 0, 0, 0, 0, 2, 0, 1, 1, 0, 2, 0, 1, 1, 0, 0, 2, 1, 2, 2, 0, 0, 1, 0, 1, 1, 1, 1, 2, 0, 0, 1, 0, 0, 2, 0, 0, 0, 2, 2, 0, 1, 2, 2, 1, 0, 2, 0, 2, 2, 0, 2, 1, 2, 0, 1, 0, 0, 0, 1, 2, 0, 2, 1, 0, 2, 2, 0, 0, 1, 1, 0, 0, 0, 0, 2, 0, 1, 0, 1, 2, 2, 2, 0, 0, 0, 0, 2, 0, 2, 0, 2, 2, 1, 2, 1, 1, 0, 2, 2, 1, 1, 0, 0, 1, 2, 0, 1, 0, 0, 1, 0, 1, 0, 0, 2, 2, 1, 1, 2, 1, 0, 1, 1, 2, 2, 2, 1, 2, 0, 1, 1, 0, 1, 0, 1, 1, 1, 0, 2, 1, 0, 2, 1, 2, 2, 2, 0, 0, 1, 1, 0, 0, 1, 1, 0, 1, 2, 2, 2, 1, 2, 0, 0, 1, 0, 1, 0, 0, 2, 2, 1, 0, 0, 1, 0, 0, 1, 0, 1, 0, 0, 2, 0, 1, 1, 1, 1, 1, 0, 2, 2, 0, 2, 1, 2, 2, 1, 0, 2, 0, 1, 1, 2, 0, 1, 2, 2, 2, 1, 2, 0, 1, 0, 2, 1, 0, 1, 2, 2, 0, 1, 2, 2, 0, 1, 0, 2, 1, 0, 0, 1, 2, 2, 1, 0, 2, 0, 1, 2, 0, 2, 1, 0, 0, 2, 0, 0, 1, 2, 2, 0, 0, 1, 1, 0, 1, 2, 2, 0, 2, 0, 0, 1, 1, 1, 2, 2, 2, 1, 2, 1, 0, 0, 1, 1, 1, 1, 2, 0, 0, 1, 2, 2, 1, 0, 2, 2, 0, 2, 1, 2, 1, 0, 1, 1, 2, 0, 0, 0, 1, 2, 1, 2, 1, 1, 1, 1, 1, 0, 2, 0, 1, 2, 2, 2, 1, 2, 1, 2, 2, 1, 2, 0, 0, 1, 1, 1, 0, 0, 2, 0, 1, 2, 2, 0, 1, 0, 1, 0, 1, 2, 1, 0, 2, 2, 1, 1, 0, 0, 1, 0, 2, 0, 0, 1, 2, 2, 0, 0, 1, 2, 0, 2, 1, 1, 1, 0, 0, 0, 0, 1, 2, 1, 1, 2, 2, 1, 1, 2, 1, 0, 2, 1, 2, 1, 2, 2, 1, 1, 2, 1, 2, 1, 1, 1, 1, 1, 0, 2, 1, 0, 0, 0, 0, 0, 0, 0, 1, 1, 1, 1, 0, 0, 2, 0, 1, 2, 0, 0, 0, 1, 1, 0, 0, 2, 0, 2, 0, 1, 2, 1, 1, 2, 2, 2, 1, 0, 0, 0, 1, 0, 0, 2, 0, 1, 1, 2, 0, 2, 0, 1, 2, 0, 1, 2, 2, 0, 1, 0, 0, 2, 1, 1, 1, 1, 0, 0, 1, 1, 1, 2, 2, 0, 1, 1, 0, 0, 0, 0, 1, 2, 0, 2, 0, 0, 1, 0, 2, 0, 2, 0, 0, 1, 2, 1, 2, 2, 0, 0, 1, 1, 2, 1, 2, 2, 1, 0, 1, 1, 2, 2, 2, 1, 1, 1, 0, 2, 1, 2, 2, 1, 1, 1, 2, 0, 1, 0, 2, 0, 0, 1, 2, 0, 0, 1, 1, 2, 2, 1, 1, 2, 2, 2, 2, 0, 0, 0, 1, 2, 2, 2, 0, 2, 1, 1, 1, 2, 1, 1, 2, 1, 1, 2, 2, 0, 0, 2, 2, 1, 0, 1, 2, 0, 0, 2, 2, 2, 1, 2, 1, 0, 1, 1, 1, 1, 0, 0, 1, 2, 1, 1, 2, 2, 0, 1, 2, 0, 1, 0, 0, 1, 2, 1, 0, 0, 2, 1, 0, 1, 1, 1, 0, 2, 0, 1, 0, 0, 1, 2, 1, 0, 1, 2, 2, 1, 1, 0, 1, 0, 0, 2, 2, 0, 1, 1, 2, 1, 1, 0, 0, 0, 2, 1, 1, 0, 0, 2, 0, 0, 1, 2, 0, 1, 1, 2, 2, 2, 0, 2, 1, 0, 1, 2, 2, 1, 2, 1, 1, 2, 0, 2, 0, 0, 1, 2, 2, 0, 0, 2, 1, 2, 0, 1, 1, 2, 1, 0, 2, 0, 0, 0, 0, 0, 0, 0, 0, 0, 0, 2, 0, 0, 1, 1, 1, 2, 1, 2, 1, 1, 0, 1, 1, 1, 2, 1, 2, 2, 2, 0, 1, 0, 2, 1, 0, 2, 1, 1, 1, 1, 1, 0, 1, 2, 1, 0, 0, 1, 0, 2, 1, 1, 2, 2, 1, 1, 0, 2, 0, 0, 2, 0, 1, 1, 0, 0, 0, 0, 1, 2, 0, 2, 0, 1, 1, 0, 0, 1, 0, 0, 2, 0, 0, 1, 2, 1, 0, 0, 1, 1, 1, 2, 0, 1, 0, 2, 2, 1, 0, 0, 1, 2, 0, 0, 0, 0, 2, 2, 0, 2, 1, 1, 2, 1, 0, 2, 1, 1, 2, 0, 2, 0, 2, 1, 0, 2, 2, 1, 0, 1, 2, 2, 2, 0, 2, 1, 0, 1, 2, 0, 1, 2, 1, 1, 0, 1, 0, 0, 0, 0, 1, 0, 0, 0, 2, 1, 1, 2, 2, 2, 0, 1, 1, 0, 1, 1, 2, 2, 1, 2, 0, 1, 1, 1, 2, 2, 2, 0, 2, 2, 0, 2, 1, 0, 0, 0, 1, 0, 0, 1, 1, 2, 0, 1, 2, 1, 0, 0, 2, 0, 2, 0, 1, 0, 0, 1, 1, 0, 1, 1, 0, 2, 2, 2, 1, 0, 1, 2, 0, 0, 0, 1, 0, 1, 0, 0, 2, 1, 1, 1, 2, 0, 2, 0, 0, 1, 0, 2, 1, 1, 0, 2, 0, 1, 1, 0, 1, 1, 0, 0, 1, 0, 0, 2, 2, 2, 1, 2, 0, 0, 0, 0, 2, 0, 1, 2, 1, 2, 2, 1, 1, 0, 1, 1, 0, 0, 1, 2, 1, 0, 1, 2, 1, 2, 2, 0, 1, 0, 1, 2, 2, 1, 2, 0, 0, 1, 0, 1, 1, 2, 2, 1, 1, 1, 2, 2, 0, 1, 0, 2, 2, 1, 1, 2, 1, 2, 2, 1, 0, 1, 2, 1, 1, 1, 0, 2, 1, 0, 0, 1, 0, 1, 1, 1, 0, 0, 2, 0, 0, 0, 0, 0, 2, 2, 1, 2, 1, 2, 0, 0, 1, 0, 1, 1, 0, 0, 1, 0, 0, 1, 0, 0, 1, 0, 0, 1, 0, 2, 1, 2, 1, 1, 2, 2, 2, 1, 2, 1, 1, 1, 1, 0, 2, 1, 0, 1, 2, 0, 0, 2, 1, 0, 0, 2, 1, 2, 1, 2, 2, 1, 0, 1, 2, 2, 2, 1, 0, 1, 0, 0, 0, 1, 2, 0, 2, 0, 0, 0, 0, 0, 0, 0, 2, 1, 2, 0, 1, 1, 0, 0, 0, 0, 1, 1, 2, 1, 1, 1, 1, 0, 1, 2, 0, 1, 2, 0, 2, 0, 0, 0, 1, 0, 1, 0, 0, 1, 1, 2, 0, 2, 2, 0, 2, 0, 1, 2, 0, 1, 2, 2, 0, 0, 2, 2, 0, 0, 0, 2, 0, 0, 1, 1, 0, 1, 2, 1, 2, 2, 0, 2, 0, 2, 2, 1, 0, 0, 0, 2, 1, 0, 0, 2, 0, 0, 0, 2, 1, 2, 1, 2, 2, 2, 0, 1, 0, 2, 2, 1, 1, 1, 0, 2, 1, 1, 1, 1, 0, 0, 0, 0, 2, 2, 1, 2, 0, 1, 0, 0, 2, 2, 1, 0, 2, 0, 1, 2, 2, 2, 2, 0, 1, 1, 0, 0, 1, 0, 1, 0, 1, 2, 1, 1, 0, 0, 0, 0, 2, 1, 1, 0, 0, 0, 0, 0, 1, 0, 0, 1, 2, 1, 1, 1, 1, 2, 1, 1, 1, 2, 0, 1, 0, 1, 2, 2, 2, 0, 1, 0, 0, 0, 1, 1, 0, 2, 1, 1, 1, 0, 0, 2, 1, 2, 2, 2, 0, 0, 0, 2, 0, 0, 2, 1, 2, 1, 1, 1, 0, 0, 1, 0, 2, 1, 1, 1, 2, 2, 1, 1, 1, 1, 2, 2, 1, 1, 1, 0, 0, 0, 0, 2, 1, 2, 1, 1, 2, 1, 1, 1, 2, 0, 0, 2, 0, 0, 2, 0, 0, 0, 2, 2, 2, 0, 1, 2, 1, 0, 2, 1, 1, 0, 2, 2, 1, 0, 2, 2, 2, 0, 1, 1, 2, 1, 0, 0, 0, 1, 1, 0, 0, 0, 0, 1, 2, 0, 1, 0, 1, 0, 2, 0, 1, 1, 1, 2, 2, 2, 1, 2, 2, 1, 0, 2, 0, 0, 2, 1, 0, 0, 1, 0, 2, 2, 1, 1, 1, 0, 2, 1, 1, 0, 2, 2, 2, 1, 2, 0, 1, 2, 0, 1, 2, 0, 1, 0, 2, 0, 1, 0, 1, 0, 0, 0, 1, 1, 0, 0, 2, 1, 0, 1, 1, 2, 0, 0, 2, 1, 1, 1, 0, 0, 0, 2, 2, 2, 0, 0, 0, 0, 0, 0, 0, 1, 1, 0, 1, 2, 2, 1, 0, 0, 1, 2, 2, 2, 1, 0, 0, 0, 1, 1, 0, 1, 1, 2, 1, 0, 0, 2, 2, 0, 0, 0, 2, 0, 2, 0, 1, 1, 0, 1, 2, 0, 0, 1, 2, 0, 1, 0, 2, 1, 0, 1, 1, 1, 0, 2, 1, 0, 2, 0, 1, 0, 0, 0, 0, 0, 2, 2, 1, 2, 2, 2, 1, 2, 2, 1, 0, 2, 0, 0, 2, 2, 1, 0, 2, 0, 0, 1, 1, 2, 2, 2, 1, 1, 0, 0, 0, 2, 0, 2, 1, 1, 1, 2, 1, 2, 1, 2, 1, 0, 1, 0, 2, 0, 1, 1, 2, 0, 2, 2, 0, 0, 1, 1, 1, 0, 0, 1, 2, 2, 0, 1, 2, 1, 1, 2, 0, 2, 1, 1, 0, 2, 0, 2, 2, 1, 0, 1, 1, 2, 1, 2, 1, 0, 2, 2, 2, 1, 0, 1, 1, 0, 1, 1, 1, 2, 2, 0, 1, 2, 0, 1, 0, 2, 1, 0, 2, 0, 0, 0, 0, 0, 0, 2, 1, 1, 1, 1, 2, 1, 1, 2, 1, 0, 1, 2, 0, 0, 2, 0, 1, 1, 2, 2, 1, 1, 1, 2, 1, 1, 0, 0, 1, 0, 0, 1, 1, 0, 1, 1, 0, 2, 2, 1, 1, 1, 2, 1, 1, 1, 1, 1, 2, 2, 1, 1, 0, 2, 1, 2, 2, 2, 1, 1, 1, 2, 1, 0, 1, 2, 2, 2, 1, 1, 0, 0, 0, 2, 0, 1, 1, 0, 0, 0, 0, 0, 2, 2, 0, 2, 1, 2, 0, 1, 2, 1, 2, 2, 0, 1, 2, 0, 0, 1, 0, 2, 1, 2, 1, 0, 2, 0, 1, 0, 2, 1, 1, 1, 2, 1, 1, 1, 2, 0, 1, 1, 0, 0, 2, 0, 2, 0, 1, 0, 0, 2, 2, 0, 1, 0, 0, 2, 0, 1, 0, 0, 1, 2, 2, 0, 1, 1, 2, 0, 1, 1, 2, 0, 0, 2, 1, 1, 2, 1, 2, 2, 1, 0, 1, 2, 0, 2, 1, 2, 2, 1, 0, 1, 2, 1, 1, 0, 2, 0, 1, 0, 2, 1, 2, 1, 0, 2, 0, 2, 0, 0, 1, 2, 0, 1, 2, 2, 1, 2, 0, 1, 0, 2, 2, 1, 0, 1, 0, 2, 1, 1, 1, 1, 0]\n"
          ]
        }
      ]
    },
    {
      "cell_type": "code",
      "source": [
        "resnet_model = ResNet50(weights='imagenet', include_top=False, input_shape=(224, 224, 3))\n"
      ],
      "metadata": {
        "id": "13RCtVFsWgD3"
      },
      "execution_count": null,
      "outputs": []
    },
    {
      "cell_type": "code",
      "source": [
        "X_train_features = resnet_model.predict(X_train)"
      ],
      "metadata": {
        "colab": {
          "base_uri": "https://localhost:8080/"
        },
        "id": "qHB6W0rfWlxi",
        "outputId": "5c75229b-54df-44d4-9616-a5a031b4dbc1"
      },
      "execution_count": null,
      "outputs": [
        {
          "output_type": "stream",
          "name": "stdout",
          "text": [
            "74/74 [==============================] - 470s 6s/step\n"
          ]
        }
      ]
    },
    {
      "cell_type": "code",
      "source": [
        "X_train_features_flatten = X_train_features.reshape(X_train_features.shape[0], -1)\n"
      ],
      "metadata": {
        "id": "vMKmcNnqhMN4"
      },
      "execution_count": null,
      "outputs": []
    },
    {
      "cell_type": "code",
      "source": [
        "svm_model = SVC(kernel='linear')\n"
      ],
      "metadata": {
        "id": "n7XagVWEhR06"
      },
      "execution_count": null,
      "outputs": []
    },
    {
      "cell_type": "code",
      "source": [
        "svm_model.fit(X_train_features_flatten, y_train)\n"
      ],
      "metadata": {
        "colab": {
          "base_uri": "https://localhost:8080/",
          "height": 51
        },
        "id": "hxxYhZMyhUvz",
        "outputId": "6962bcf2-9997-4265-e61a-03cc37a6c2e3"
      },
      "execution_count": null,
      "outputs": [
        {
          "output_type": "execute_result",
          "data": {
            "text/plain": [
              "SVC(kernel='linear')"
            ],
            "text/html": [
              "<style>#sk-container-id-1 {color: black;background-color: white;}#sk-container-id-1 pre{padding: 0;}#sk-container-id-1 div.sk-toggleable {background-color: white;}#sk-container-id-1 label.sk-toggleable__label {cursor: pointer;display: block;width: 100%;margin-bottom: 0;padding: 0.3em;box-sizing: border-box;text-align: center;}#sk-container-id-1 label.sk-toggleable__label-arrow:before {content: \"▸\";float: left;margin-right: 0.25em;color: #696969;}#sk-container-id-1 label.sk-toggleable__label-arrow:hover:before {color: black;}#sk-container-id-1 div.sk-estimator:hover label.sk-toggleable__label-arrow:before {color: black;}#sk-container-id-1 div.sk-toggleable__content {max-height: 0;max-width: 0;overflow: hidden;text-align: left;background-color: #f0f8ff;}#sk-container-id-1 div.sk-toggleable__content pre {margin: 0.2em;color: black;border-radius: 0.25em;background-color: #f0f8ff;}#sk-container-id-1 input.sk-toggleable__control:checked~div.sk-toggleable__content {max-height: 200px;max-width: 100%;overflow: auto;}#sk-container-id-1 input.sk-toggleable__control:checked~label.sk-toggleable__label-arrow:before {content: \"▾\";}#sk-container-id-1 div.sk-estimator input.sk-toggleable__control:checked~label.sk-toggleable__label {background-color: #d4ebff;}#sk-container-id-1 div.sk-label input.sk-toggleable__control:checked~label.sk-toggleable__label {background-color: #d4ebff;}#sk-container-id-1 input.sk-hidden--visually {border: 0;clip: rect(1px 1px 1px 1px);clip: rect(1px, 1px, 1px, 1px);height: 1px;margin: -1px;overflow: hidden;padding: 0;position: absolute;width: 1px;}#sk-container-id-1 div.sk-estimator {font-family: monospace;background-color: #f0f8ff;border: 1px dotted black;border-radius: 0.25em;box-sizing: border-box;margin-bottom: 0.5em;}#sk-container-id-1 div.sk-estimator:hover {background-color: #d4ebff;}#sk-container-id-1 div.sk-parallel-item::after {content: \"\";width: 100%;border-bottom: 1px solid gray;flex-grow: 1;}#sk-container-id-1 div.sk-label:hover label.sk-toggleable__label {background-color: #d4ebff;}#sk-container-id-1 div.sk-serial::before {content: \"\";position: absolute;border-left: 1px solid gray;box-sizing: border-box;top: 0;bottom: 0;left: 50%;z-index: 0;}#sk-container-id-1 div.sk-serial {display: flex;flex-direction: column;align-items: center;background-color: white;padding-right: 0.2em;padding-left: 0.2em;position: relative;}#sk-container-id-1 div.sk-item {position: relative;z-index: 1;}#sk-container-id-1 div.sk-parallel {display: flex;align-items: stretch;justify-content: center;background-color: white;position: relative;}#sk-container-id-1 div.sk-item::before, #sk-container-id-1 div.sk-parallel-item::before {content: \"\";position: absolute;border-left: 1px solid gray;box-sizing: border-box;top: 0;bottom: 0;left: 50%;z-index: -1;}#sk-container-id-1 div.sk-parallel-item {display: flex;flex-direction: column;z-index: 1;position: relative;background-color: white;}#sk-container-id-1 div.sk-parallel-item:first-child::after {align-self: flex-end;width: 50%;}#sk-container-id-1 div.sk-parallel-item:last-child::after {align-self: flex-start;width: 50%;}#sk-container-id-1 div.sk-parallel-item:only-child::after {width: 0;}#sk-container-id-1 div.sk-dashed-wrapped {border: 1px dashed gray;margin: 0 0.4em 0.5em 0.4em;box-sizing: border-box;padding-bottom: 0.4em;background-color: white;}#sk-container-id-1 div.sk-label label {font-family: monospace;font-weight: bold;display: inline-block;line-height: 1.2em;}#sk-container-id-1 div.sk-label-container {text-align: center;}#sk-container-id-1 div.sk-container {/* jupyter's `normalize.less` sets `[hidden] { display: none; }` but bootstrap.min.css set `[hidden] { display: none !important; }` so we also need the `!important` here to be able to override the default hidden behavior on the sphinx rendered scikit-learn.org. See: https://github.com/scikit-learn/scikit-learn/issues/21755 */display: inline-block !important;position: relative;}#sk-container-id-1 div.sk-text-repr-fallback {display: none;}</style><div id=\"sk-container-id-1\" class=\"sk-top-container\"><div class=\"sk-text-repr-fallback\"><pre>SVC(kernel=&#x27;linear&#x27;)</pre><b>In a Jupyter environment, please rerun this cell to show the HTML representation or trust the notebook. <br />On GitHub, the HTML representation is unable to render, please try loading this page with nbviewer.org.</b></div><div class=\"sk-container\" hidden><div class=\"sk-item\"><div class=\"sk-estimator sk-toggleable\"><input class=\"sk-toggleable__control sk-hidden--visually\" id=\"sk-estimator-id-1\" type=\"checkbox\" checked><label for=\"sk-estimator-id-1\" class=\"sk-toggleable__label sk-toggleable__label-arrow\">SVC</label><div class=\"sk-toggleable__content\"><pre>SVC(kernel=&#x27;linear&#x27;)</pre></div></div></div></div></div>"
            ]
          },
          "metadata": {},
          "execution_count": 20
        }
      ]
    },
    {
      "cell_type": "code",
      "source": [
        "X_test_features = resnet_model.predict(X_test)"
      ],
      "metadata": {
        "colab": {
          "base_uri": "https://localhost:8080/"
        },
        "id": "QQFMArqsjGFz",
        "outputId": "b7e2be2b-7727-4ac7-a5b5-e617d3a51607"
      },
      "execution_count": null,
      "outputs": [
        {
          "output_type": "stream",
          "name": "stdout",
          "text": [
            "19/19 [==============================] - 115s 6s/step\n"
          ]
        }
      ]
    },
    {
      "cell_type": "code",
      "source": [
        "X_test_features_flatten = X_test_features.reshape(X_test_features.shape[0], -1)"
      ],
      "metadata": {
        "id": "8nA9If88kGao"
      },
      "execution_count": null,
      "outputs": []
    },
    {
      "cell_type": "code",
      "source": [
        "svm_predictions = svm_model.predict(X_test_features_flatten)"
      ],
      "metadata": {
        "id": "O4p7-ZrokKWk"
      },
      "execution_count": null,
      "outputs": []
    },
    {
      "cell_type": "code",
      "source": [
        "voting_clf = VotingClassifier(estimators=[('svm', svm_model)], voting='hard')"
      ],
      "metadata": {
        "id": "pvRbzAhDlBg-"
      },
      "execution_count": null,
      "outputs": []
    },
    {
      "cell_type": "code",
      "source": [
        "voting_clf.fit(X_test_features_flatten, y_test)"
      ],
      "metadata": {
        "colab": {
          "base_uri": "https://localhost:8080/",
          "height": 155
        },
        "id": "0GzYTfQOlIBO",
        "outputId": "7111a066-ab2d-4284-aa87-35a8e8b374b9"
      },
      "execution_count": null,
      "outputs": [
        {
          "output_type": "execute_result",
          "data": {
            "text/plain": [
              "VotingClassifier(estimators=[('svm', SVC(kernel='linear'))])"
            ],
            "text/html": [
              "<style>#sk-container-id-2 {color: black;background-color: white;}#sk-container-id-2 pre{padding: 0;}#sk-container-id-2 div.sk-toggleable {background-color: white;}#sk-container-id-2 label.sk-toggleable__label {cursor: pointer;display: block;width: 100%;margin-bottom: 0;padding: 0.3em;box-sizing: border-box;text-align: center;}#sk-container-id-2 label.sk-toggleable__label-arrow:before {content: \"▸\";float: left;margin-right: 0.25em;color: #696969;}#sk-container-id-2 label.sk-toggleable__label-arrow:hover:before {color: black;}#sk-container-id-2 div.sk-estimator:hover label.sk-toggleable__label-arrow:before {color: black;}#sk-container-id-2 div.sk-toggleable__content {max-height: 0;max-width: 0;overflow: hidden;text-align: left;background-color: #f0f8ff;}#sk-container-id-2 div.sk-toggleable__content pre {margin: 0.2em;color: black;border-radius: 0.25em;background-color: #f0f8ff;}#sk-container-id-2 input.sk-toggleable__control:checked~div.sk-toggleable__content {max-height: 200px;max-width: 100%;overflow: auto;}#sk-container-id-2 input.sk-toggleable__control:checked~label.sk-toggleable__label-arrow:before {content: \"▾\";}#sk-container-id-2 div.sk-estimator input.sk-toggleable__control:checked~label.sk-toggleable__label {background-color: #d4ebff;}#sk-container-id-2 div.sk-label input.sk-toggleable__control:checked~label.sk-toggleable__label {background-color: #d4ebff;}#sk-container-id-2 input.sk-hidden--visually {border: 0;clip: rect(1px 1px 1px 1px);clip: rect(1px, 1px, 1px, 1px);height: 1px;margin: -1px;overflow: hidden;padding: 0;position: absolute;width: 1px;}#sk-container-id-2 div.sk-estimator {font-family: monospace;background-color: #f0f8ff;border: 1px dotted black;border-radius: 0.25em;box-sizing: border-box;margin-bottom: 0.5em;}#sk-container-id-2 div.sk-estimator:hover {background-color: #d4ebff;}#sk-container-id-2 div.sk-parallel-item::after {content: \"\";width: 100%;border-bottom: 1px solid gray;flex-grow: 1;}#sk-container-id-2 div.sk-label:hover label.sk-toggleable__label {background-color: #d4ebff;}#sk-container-id-2 div.sk-serial::before {content: \"\";position: absolute;border-left: 1px solid gray;box-sizing: border-box;top: 0;bottom: 0;left: 50%;z-index: 0;}#sk-container-id-2 div.sk-serial {display: flex;flex-direction: column;align-items: center;background-color: white;padding-right: 0.2em;padding-left: 0.2em;position: relative;}#sk-container-id-2 div.sk-item {position: relative;z-index: 1;}#sk-container-id-2 div.sk-parallel {display: flex;align-items: stretch;justify-content: center;background-color: white;position: relative;}#sk-container-id-2 div.sk-item::before, #sk-container-id-2 div.sk-parallel-item::before {content: \"\";position: absolute;border-left: 1px solid gray;box-sizing: border-box;top: 0;bottom: 0;left: 50%;z-index: -1;}#sk-container-id-2 div.sk-parallel-item {display: flex;flex-direction: column;z-index: 1;position: relative;background-color: white;}#sk-container-id-2 div.sk-parallel-item:first-child::after {align-self: flex-end;width: 50%;}#sk-container-id-2 div.sk-parallel-item:last-child::after {align-self: flex-start;width: 50%;}#sk-container-id-2 div.sk-parallel-item:only-child::after {width: 0;}#sk-container-id-2 div.sk-dashed-wrapped {border: 1px dashed gray;margin: 0 0.4em 0.5em 0.4em;box-sizing: border-box;padding-bottom: 0.4em;background-color: white;}#sk-container-id-2 div.sk-label label {font-family: monospace;font-weight: bold;display: inline-block;line-height: 1.2em;}#sk-container-id-2 div.sk-label-container {text-align: center;}#sk-container-id-2 div.sk-container {/* jupyter's `normalize.less` sets `[hidden] { display: none; }` but bootstrap.min.css set `[hidden] { display: none !important; }` so we also need the `!important` here to be able to override the default hidden behavior on the sphinx rendered scikit-learn.org. See: https://github.com/scikit-learn/scikit-learn/issues/21755 */display: inline-block !important;position: relative;}#sk-container-id-2 div.sk-text-repr-fallback {display: none;}</style><div id=\"sk-container-id-2\" class=\"sk-top-container\"><div class=\"sk-text-repr-fallback\"><pre>VotingClassifier(estimators=[(&#x27;svm&#x27;, SVC(kernel=&#x27;linear&#x27;))])</pre><b>In a Jupyter environment, please rerun this cell to show the HTML representation or trust the notebook. <br />On GitHub, the HTML representation is unable to render, please try loading this page with nbviewer.org.</b></div><div class=\"sk-container\" hidden><div class=\"sk-item sk-dashed-wrapped\"><div class=\"sk-label-container\"><div class=\"sk-label sk-toggleable\"><input class=\"sk-toggleable__control sk-hidden--visually\" id=\"sk-estimator-id-2\" type=\"checkbox\" ><label for=\"sk-estimator-id-2\" class=\"sk-toggleable__label sk-toggleable__label-arrow\">VotingClassifier</label><div class=\"sk-toggleable__content\"><pre>VotingClassifier(estimators=[(&#x27;svm&#x27;, SVC(kernel=&#x27;linear&#x27;))])</pre></div></div></div><div class=\"sk-parallel\"><div class=\"sk-parallel-item\"><div class=\"sk-item\"><div class=\"sk-label-container\"><div class=\"sk-label sk-toggleable\"><label>svm</label></div></div><div class=\"sk-serial\"><div class=\"sk-item\"><div class=\"sk-estimator sk-toggleable\"><input class=\"sk-toggleable__control sk-hidden--visually\" id=\"sk-estimator-id-3\" type=\"checkbox\" ><label for=\"sk-estimator-id-3\" class=\"sk-toggleable__label sk-toggleable__label-arrow\">SVC</label><div class=\"sk-toggleable__content\"><pre>SVC(kernel=&#x27;linear&#x27;)</pre></div></div></div></div></div></div></div></div></div></div>"
            ]
          },
          "metadata": {},
          "execution_count": 25
        }
      ]
    },
    {
      "cell_type": "code",
      "source": [
        "majority_voting_predictions = voting_clf.predict(X_test_features_flatten)"
      ],
      "metadata": {
        "id": "CMxbGm60lbey"
      },
      "execution_count": null,
      "outputs": []
    },
    {
      "cell_type": "code",
      "source": [
        "svm_accuracy = accuracy_score(y_test, svm_predictions)"
      ],
      "metadata": {
        "id": "SJ2NCerKmNxN"
      },
      "execution_count": null,
      "outputs": []
    },
    {
      "cell_type": "code",
      "source": [
        "majority_voting_accuracy = accuracy_score(y_test, majority_voting_predictions)"
      ],
      "metadata": {
        "id": "MMEvVI25mQmT"
      },
      "execution_count": null,
      "outputs": []
    },
    {
      "cell_type": "code",
      "source": [
        "print(\"SVM Accuracy:\", svm_accuracy)\n",
        "print(\"Majority Voting Accuracy:\", majority_voting_accuracy)"
      ],
      "metadata": {
        "colab": {
          "base_uri": "https://localhost:8080/"
        },
        "id": "nOGVFn_6mUUp",
        "outputId": "d4b4bc03-d6f9-41fe-832e-290e315739f2"
      },
      "execution_count": null,
      "outputs": [
        {
          "output_type": "stream",
          "name": "stdout",
          "text": [
            "SVM Accuracy: 0.7942664418212478\n",
            "Majority Voting Accuracy: 1.0\n"
          ]
        }
      ]
    },
    {
      "cell_type": "code",
      "source": [
        "import matplotlib.pyplot as plt\n",
        "\n",
        "# Sample data\n",
        "categories = ['SVM', 'Random Forest', 'Majority Voting']\n",
        "values = [0.59, 0.56, .9]\n",
        "\n",
        "# Plotting the bar graph\n",
        "plt.bar(categories, values)\n",
        "\n",
        "# Adding labels and title\n",
        "plt.xlabel('Classifier Models')\n",
        "plt.ylabel('Accuracy')\n",
        "\n",
        "# Display the plot\n",
        "plt.show()"
      ],
      "metadata": {
        "colab": {
          "base_uri": "https://localhost:8080/",
          "height": 449
        },
        "id": "wBcRoXyOQri8",
        "outputId": "c3107691-1c26-44b0-b469-283869818a29"
      },
      "execution_count": 2,
      "outputs": [
        {
          "output_type": "display_data",
          "data": {
            "text/plain": [
              "<Figure size 640x480 with 1 Axes>"
            ],
            "image/png": "[encoded data removed]"
          },
          "metadata": {}
        }
      ]
    },
    {
      "cell_type": "code",
      "source": [
        "import numpy as np\n",
        "import matplotlib.pyplot as plt\n",
        "\n",
        "# Example confusion matrix (replace this with your 3x3 array)\n",
        "conf_matrix = np.array([[198, 6, 97],\n",
        "                        [0, 51, 236],\n",
        "                        [3, 21, 263]])\n",
        "\n",
        "# Plotting confusion matrix as heatmap\n",
        "plt.imshow(conf_matrix, interpolation='nearest', cmap=plt.cm.Blues)\n",
        "plt.title('Confusion Matrix for SVM')\n",
        "plt.colorbar()\n",
        "\n",
        "# Adding axis labels\n",
        "tick_marks = np.arange(3)\n",
        "plt.xticks(tick_marks, ['KCN', 'NOR', 'SUSP'])\n",
        "plt.yticks(tick_marks, ['KCN', 'NOR', 'SUSP'])\n",
        "\n",
        "# Adding text annotations\n",
        "thresh = conf_matrix.max() / 2.\n",
        "for i in range(conf_matrix.shape[0]):\n",
        "    for j in range(conf_matrix.shape[1]):\n",
        "        plt.text(j, i, format(conf_matrix[i, j], 'd'),\n",
        "                 horizontalalignment=\"center\",\n",
        "                 color=\"white\" if conf_matrix[i, j] > thresh else \"black\")\n",
        "\n",
        "plt.ylabel('True label')\n",
        "plt.xlabel('Predicted label')\n",
        "plt.tight_layout()\n",
        "plt.show()"
      ],
      "metadata": {
        "colab": {
          "base_uri": "https://localhost:8080/",
          "height": 487
        },
        "id": "yLejyG3fSlNa",
        "outputId": "ed9aa863-1039-4401-d66b-53885c06656b"
      },
      "execution_count": 3,
      "outputs": [
        {
          "output_type": "display_data",
          "data": {
            "text/plain": [
              "<Figure size 640x480 with 2 Axes>"
            ],
            "image/png": "[encoded data removed]"
          },
          "metadata": {}
        }
      ]
    }
  ]
}